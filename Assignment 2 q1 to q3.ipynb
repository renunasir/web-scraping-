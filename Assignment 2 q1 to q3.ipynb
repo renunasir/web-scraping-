{
 "cells": [
  {
   "cell_type": "code",
   "execution_count": 16,
   "id": "8fcba236",
   "metadata": {},
   "outputs": [
    {
     "name": "stdout",
     "output_type": "stream",
     "text": [
      "Requirement already satisfied: selenium in c:\\users\\user\\anaconda3\\lib\\site-packages (4.3.0)\n",
      "Requirement already satisfied: trio~=0.17 in c:\\users\\user\\anaconda3\\lib\\site-packages (from selenium) (0.21.0)\n",
      "Requirement already satisfied: urllib3[secure,socks]~=1.26 in c:\\users\\user\\anaconda3\\lib\\site-packages (from selenium) (1.26.9)\n",
      "Requirement already satisfied: trio-websocket~=0.9 in c:\\users\\user\\anaconda3\\lib\\site-packages (from selenium) (0.9.2)\n",
      "Requirement already satisfied: idna in c:\\users\\user\\anaconda3\\lib\\site-packages (from trio~=0.17->selenium) (3.3)\n",
      "Requirement already satisfied: attrs>=19.2.0 in c:\\users\\user\\anaconda3\\lib\\site-packages (from trio~=0.17->selenium) (21.4.0)\n",
      "Requirement already satisfied: cffi>=1.14 in c:\\users\\user\\anaconda3\\lib\\site-packages (from trio~=0.17->selenium) (1.15.0)\n",
      "Requirement already satisfied: sniffio in c:\\users\\user\\anaconda3\\lib\\site-packages (from trio~=0.17->selenium) (1.2.0)\n",
      "Requirement already satisfied: outcome in c:\\users\\user\\anaconda3\\lib\\site-packages (from trio~=0.17->selenium) (1.2.0)\n",
      "Requirement already satisfied: async-generator>=1.9 in c:\\users\\user\\anaconda3\\lib\\site-packages (from trio~=0.17->selenium) (1.10)\n",
      "Requirement already satisfied: sortedcontainers in c:\\users\\user\\anaconda3\\lib\\site-packages (from trio~=0.17->selenium) (2.4.0)\n",
      "Requirement already satisfied: pycparser in c:\\users\\user\\anaconda3\\lib\\site-packages (from cffi>=1.14->trio~=0.17->selenium) (2.21)\n",
      "Requirement already satisfied: wsproto>=0.14 in c:\\users\\user\\anaconda3\\lib\\site-packages (from trio-websocket~=0.9->selenium) (1.1.0)\n",
      "Requirement already satisfied: PySocks!=1.5.7,<2.0,>=1.5.6 in c:\\users\\user\\anaconda3\\lib\\site-packages (from urllib3[secure,socks]~=1.26->selenium) (1.7.1)\n",
      "Requirement already satisfied: cryptography>=1.3.4 in c:\\users\\user\\anaconda3\\lib\\site-packages (from urllib3[secure,socks]~=1.26->selenium) (3.4.8)\n",
      "Requirement already satisfied: pyOpenSSL>=0.14 in c:\\users\\user\\anaconda3\\lib\\site-packages (from urllib3[secure,socks]~=1.26->selenium) (21.0.0)\n",
      "Requirement already satisfied: certifi in c:\\users\\user\\anaconda3\\lib\\site-packages (from urllib3[secure,socks]~=1.26->selenium) (2021.10.8)\n",
      "Requirement already satisfied: six>=1.5.2 in c:\\users\\user\\anaconda3\\lib\\site-packages (from pyOpenSSL>=0.14->urllib3[secure,socks]~=1.26->selenium) (1.16.0)\n",
      "Requirement already satisfied: h11<1,>=0.9.0 in c:\\users\\user\\anaconda3\\lib\\site-packages (from wsproto>=0.14->trio-websocket~=0.9->selenium) (0.13.0)\n"
     ]
    }
   ],
   "source": [
    "!pip install selenium"
   ]
  },
  {
   "cell_type": "code",
   "execution_count": 17,
   "id": "2dd49caf",
   "metadata": {},
   "outputs": [],
   "source": [
    "## first import important libraries\n",
    "import selenium\n",
    "import pandas as pd\n",
    "from selenium import webdriver\n",
    "from selenium.common.exceptions import StaleElementReferenceException, NoSuchElementException\n",
    "from selenium.webdriver.common.by import By\n",
    "import warnings\n",
    "warnings.filterwarnings(\"ignore\")\n",
    "from selenium.webdriver.common.action_chains import ActionChains"
   ]
  },
  {
   "cell_type": "markdown",
   "id": "29a4afcc",
   "metadata": {},
   "source": [
    "# Q1: Write a python program to scrape data for “Data Analyst” Job position in “Bangalore” location. You have to scrape the job-title, job-location, company_name, experience_required. You have to scrape first 10 jobs data."
   ]
  },
  {
   "cell_type": "markdown",
   "id": "ff2be86a",
   "metadata": {},
   "source": [
    "1.\tFirst get the webpage https://www.naukri.com/"
   ]
  },
  {
   "cell_type": "code",
   "execution_count": 18,
   "id": "37c16587",
   "metadata": {},
   "outputs": [],
   "source": [
    "# first connecting with webdriver\n",
    "driver=webdriver.Chrome(r\"C:\\Users\\user\\Desktop\\drivers\\chromedriver\")"
   ]
  },
  {
   "cell_type": "code",
   "execution_count": 19,
   "id": "5d560963",
   "metadata": {},
   "outputs": [],
   "source": [
    "driver.implicitly_wait(10)"
   ]
  },
  {
   "cell_type": "code",
   "execution_count": 20,
   "id": "39adb0e1",
   "metadata": {
    "scrolled": true
   },
   "outputs": [],
   "source": [
    "# opening website using webdriver \n",
    "url = 'https://www.naukri.com/'\n",
    "driver.get(url)"
   ]
  },
  {
   "cell_type": "markdown",
   "id": "26af716e",
   "metadata": {},
   "source": [
    "2.\tEnter “Data Analyst” in “Skill, Designations, Companies” field and enter “Bangalore” in “enter the location” field.\n"
   ]
  },
  {
   "cell_type": "code",
   "execution_count": 21,
   "id": "8802a722",
   "metadata": {
    "scrolled": true
   },
   "outputs": [],
   "source": [
    "# lets type keywords to search for a job\n",
    "job_search = driver.find_element(By.XPATH,'/html[1]/body[1]/div[1]/div[2]/div[3]/div[1]/div[1]/div[1]/div[1]/div[1]/div[1]/input[1]')\n",
    "job_search.send_keys('Data Analyst')"
   ]
  },
  {
   "cell_type": "code",
   "execution_count": 22,
   "id": "a4a8dbc5",
   "metadata": {},
   "outputs": [],
   "source": [
    "# lets type the keyword to search for location\n",
    "location=driver.find_element(By.XPATH,\"/html/body/div[1]/div[2]/div[3]/div/div/div[5]/div/div/div/input\")\n",
    "location.send_keys('Bangalore')"
   ]
  },
  {
   "cell_type": "markdown",
   "id": "6b9e61ac",
   "metadata": {},
   "source": [
    "3.\tThen click the search button."
   ]
  },
  {
   "cell_type": "code",
   "execution_count": 23,
   "id": "b76e5906",
   "metadata": {},
   "outputs": [],
   "source": [
    "# lets click on search\n",
    "ser_loc = driver.find_element(By.CLASS_NAME,\"qsbSubmit\")\n",
    "ser_loc.click()"
   ]
  },
  {
   "cell_type": "markdown",
   "id": "3fd18616",
   "metadata": {},
   "source": [
    "4.\tThen scrape the data for the first 10 jobs results you get."
   ]
  },
  {
   "cell_type": "code",
   "execution_count": 25,
   "id": "97255b45",
   "metadata": {},
   "outputs": [],
   "source": [
    "# first we will create 4 empty list for job_title, job_location, company_name and required_experience\n",
    "job_title = []\n",
    "job_location = []\n",
    "company_name = []\n",
    "experience_required = []\n",
    "\n",
    "# lets scrap all the job title first using xpath\n",
    "\n",
    "for i in driver.find_elements(By.XPATH,'//a[@class=\"title fw500 ellipsis\"]'):   # getting all the title tags\n",
    "    job_title.append(i.text)                                                    # getting the texts of titles\n",
    "    job_title=job_title[:10]                                                    # as we need first 10 job position only\n",
    "    \n",
    "# lets scrap the locations using xpath\n",
    "\n",
    "for i in driver.find_elements(By.XPATH,\"//li[@class='fleft grey-text br2 placeHolderLi location']\"): # getting the tags for job location by xpath through parent tag ('li')\n",
    "    job_location.append(i.text)                 # text for job_location\n",
    "    job_location = job_location[:10]            # as we need first 10 job locations only\n",
    "    \n",
    "# lets scrap the company name using xpath\n",
    "\n",
    "for i in driver.find_elements(By.XPATH,'//a[@class=\"subTitle ellipsis fleft\"]'):  # getting tags for company_name\n",
    "    company_name.append(i.text)                 # getting text in list\n",
    "    company_name = company_name[:10]            # as we need first 10 company names only\n",
    "    \n",
    " # lets scrap the last list experience_required using xpath\n",
    "\n",
    "for i in driver.find_elements(By.XPATH,\"//li[@class='fleft grey-text br2 placeHolderLi experience']\"):  # for tags of experience through parent tag(li)\n",
    "    experience_required.append(i.text)                    # getting text in list\n",
    "    experience_required = experience_required[:10]        # as we need first 10 experience_required only"
   ]
  },
  {
   "cell_type": "code",
   "execution_count": 26,
   "id": "03ef9a1c",
   "metadata": {},
   "outputs": [
    {
     "data": {
      "text/plain": [
       "['Senior Data Analyst',\n",
       " 'Data Analyst/Sr. Data Analyst',\n",
       " 'Sr.Business Data Analyst',\n",
       " 'Business Data Analyst (Sr Exe / Asst Manager)',\n",
       " 'Principal Data Analyst',\n",
       " 'Data Analyst / Product Analyst / Business Analyst',\n",
       " 'Data Analyst',\n",
       " 'Data Analyst I',\n",
       " 'Data Analyst - Data and Analytics',\n",
       " 'Senior Data Analyst']"
      ]
     },
     "execution_count": 26,
     "metadata": {},
     "output_type": "execute_result"
    }
   ],
   "source": [
    "#lets 10 titles of job\n",
    "job_title"
   ]
  },
  {
   "cell_type": "code",
   "execution_count": 27,
   "id": "55c87ff8",
   "metadata": {},
   "outputs": [
    {
     "data": {
      "text/plain": [
       "['Bangalore/Bengaluru',\n",
       " 'Bangalore/Bengaluru',\n",
       " 'Bangalore/Bengaluru, karnataka\\n(WFH during Covid)',\n",
       " 'Bangalore/Bengaluru, Delhi / NCR',\n",
       " 'Bangalore/Bengaluru',\n",
       " 'Bangalore/Bengaluru, Delhi / NCR',\n",
       " 'Bangalore/Bengaluru',\n",
       " 'Bangalore/Bengaluru',\n",
       " 'Bangalore/Bengaluru',\n",
       " 'Bangalore/Bengaluru']"
      ]
     },
     "execution_count": 27,
     "metadata": {},
     "output_type": "execute_result"
    }
   ],
   "source": [
    "#lets 10 job location\n",
    "job_location"
   ]
  },
  {
   "cell_type": "code",
   "execution_count": 28,
   "id": "5a359e96",
   "metadata": {},
   "outputs": [
    {
     "data": {
      "text/plain": [
       "['ANZ',\n",
       " 'Brillio',\n",
       " 'Collabera',\n",
       " 'Talent Leads HR Solutions Pvt Ltd',\n",
       " 'SVB Global Services India LLP',\n",
       " 'Benchire',\n",
       " 'Brillio',\n",
       " 'Cerner',\n",
       " 'Intel',\n",
       " 'Flipkart']"
      ]
     },
     "execution_count": 28,
     "metadata": {},
     "output_type": "execute_result"
    }
   ],
   "source": [
    "#lets check the company name\n",
    "company_name"
   ]
  },
  {
   "cell_type": "code",
   "execution_count": 29,
   "id": "a8c9d701",
   "metadata": {},
   "outputs": [
    {
     "data": {
      "text/plain": [
       "['2-3 Yrs',\n",
       " '3-8 Yrs',\n",
       " '6-11 Yrs',\n",
       " '3-6 Yrs',\n",
       " '5-7 Yrs',\n",
       " '2-5 Yrs',\n",
       " '4-7 Yrs',\n",
       " '5-10 Yrs',\n",
       " '3-6 Yrs',\n",
       " '3-7 Yrs']"
      ]
     },
     "execution_count": 29,
     "metadata": {},
     "output_type": "execute_result"
    }
   ],
   "source": [
    "#lets check the experience\n",
    "experience_required"
   ]
  },
  {
   "cell_type": "code",
   "execution_count": 30,
   "id": "8be2f27f",
   "metadata": {},
   "outputs": [
    {
     "name": "stdout",
     "output_type": "stream",
     "text": [
      "10 10 10 10\n"
     ]
    }
   ],
   "source": [
    "print(len(job_title),len(job_location),len(company_name),len(experience_required))"
   ]
  },
  {
   "cell_type": "markdown",
   "id": "260084bc",
   "metadata": {},
   "source": [
    "5.\tFinally create a dataframe of the scraped data."
   ]
  },
  {
   "cell_type": "code",
   "execution_count": 31,
   "id": "9a5c9902",
   "metadata": {},
   "outputs": [
    {
     "data": {
      "text/html": [
       "<div>\n",
       "<style scoped>\n",
       "    .dataframe tbody tr th:only-of-type {\n",
       "        vertical-align: middle;\n",
       "    }\n",
       "\n",
       "    .dataframe tbody tr th {\n",
       "        vertical-align: top;\n",
       "    }\n",
       "\n",
       "    .dataframe thead th {\n",
       "        text-align: right;\n",
       "    }\n",
       "</style>\n",
       "<table border=\"1\" class=\"dataframe\">\n",
       "  <thead>\n",
       "    <tr style=\"text-align: right;\">\n",
       "      <th></th>\n",
       "      <th>Job_title</th>\n",
       "      <th>Job_location</th>\n",
       "      <th>Company_name</th>\n",
       "      <th>experience_required</th>\n",
       "    </tr>\n",
       "  </thead>\n",
       "  <tbody>\n",
       "    <tr>\n",
       "      <th>0</th>\n",
       "      <td>Senior Data Analyst</td>\n",
       "      <td>Bangalore/Bengaluru</td>\n",
       "      <td>ANZ</td>\n",
       "      <td>2-3 Yrs</td>\n",
       "    </tr>\n",
       "    <tr>\n",
       "      <th>1</th>\n",
       "      <td>Data Analyst/Sr. Data Analyst</td>\n",
       "      <td>Bangalore/Bengaluru</td>\n",
       "      <td>Brillio</td>\n",
       "      <td>3-8 Yrs</td>\n",
       "    </tr>\n",
       "    <tr>\n",
       "      <th>2</th>\n",
       "      <td>Sr.Business Data Analyst</td>\n",
       "      <td>Bangalore/Bengaluru, karnataka\\n(WFH during Co...</td>\n",
       "      <td>Collabera</td>\n",
       "      <td>6-11 Yrs</td>\n",
       "    </tr>\n",
       "    <tr>\n",
       "      <th>3</th>\n",
       "      <td>Business Data Analyst (Sr Exe / Asst Manager)</td>\n",
       "      <td>Bangalore/Bengaluru, Delhi / NCR</td>\n",
       "      <td>Talent Leads HR Solutions Pvt Ltd</td>\n",
       "      <td>3-6 Yrs</td>\n",
       "    </tr>\n",
       "    <tr>\n",
       "      <th>4</th>\n",
       "      <td>Principal Data Analyst</td>\n",
       "      <td>Bangalore/Bengaluru</td>\n",
       "      <td>SVB Global Services India LLP</td>\n",
       "      <td>5-7 Yrs</td>\n",
       "    </tr>\n",
       "    <tr>\n",
       "      <th>5</th>\n",
       "      <td>Data Analyst / Product Analyst / Business Analyst</td>\n",
       "      <td>Bangalore/Bengaluru, Delhi / NCR</td>\n",
       "      <td>Benchire</td>\n",
       "      <td>2-5 Yrs</td>\n",
       "    </tr>\n",
       "    <tr>\n",
       "      <th>6</th>\n",
       "      <td>Data Analyst</td>\n",
       "      <td>Bangalore/Bengaluru</td>\n",
       "      <td>Brillio</td>\n",
       "      <td>4-7 Yrs</td>\n",
       "    </tr>\n",
       "    <tr>\n",
       "      <th>7</th>\n",
       "      <td>Data Analyst I</td>\n",
       "      <td>Bangalore/Bengaluru</td>\n",
       "      <td>Cerner</td>\n",
       "      <td>5-10 Yrs</td>\n",
       "    </tr>\n",
       "    <tr>\n",
       "      <th>8</th>\n",
       "      <td>Data Analyst - Data and Analytics</td>\n",
       "      <td>Bangalore/Bengaluru</td>\n",
       "      <td>Intel</td>\n",
       "      <td>3-6 Yrs</td>\n",
       "    </tr>\n",
       "    <tr>\n",
       "      <th>9</th>\n",
       "      <td>Senior Data Analyst</td>\n",
       "      <td>Bangalore/Bengaluru</td>\n",
       "      <td>Flipkart</td>\n",
       "      <td>3-7 Yrs</td>\n",
       "    </tr>\n",
       "  </tbody>\n",
       "</table>\n",
       "</div>"
      ],
      "text/plain": [
       "                                           Job_title  \\\n",
       "0                                Senior Data Analyst   \n",
       "1                      Data Analyst/Sr. Data Analyst   \n",
       "2                           Sr.Business Data Analyst   \n",
       "3      Business Data Analyst (Sr Exe / Asst Manager)   \n",
       "4                             Principal Data Analyst   \n",
       "5  Data Analyst / Product Analyst / Business Analyst   \n",
       "6                                       Data Analyst   \n",
       "7                                     Data Analyst I   \n",
       "8                  Data Analyst - Data and Analytics   \n",
       "9                                Senior Data Analyst   \n",
       "\n",
       "                                        Job_location  \\\n",
       "0                                Bangalore/Bengaluru   \n",
       "1                                Bangalore/Bengaluru   \n",
       "2  Bangalore/Bengaluru, karnataka\\n(WFH during Co...   \n",
       "3                   Bangalore/Bengaluru, Delhi / NCR   \n",
       "4                                Bangalore/Bengaluru   \n",
       "5                   Bangalore/Bengaluru, Delhi / NCR   \n",
       "6                                Bangalore/Bengaluru   \n",
       "7                                Bangalore/Bengaluru   \n",
       "8                                Bangalore/Bengaluru   \n",
       "9                                Bangalore/Bengaluru   \n",
       "\n",
       "                        Company_name experience_required  \n",
       "0                                ANZ             2-3 Yrs  \n",
       "1                            Brillio             3-8 Yrs  \n",
       "2                          Collabera            6-11 Yrs  \n",
       "3  Talent Leads HR Solutions Pvt Ltd             3-6 Yrs  \n",
       "4      SVB Global Services India LLP             5-7 Yrs  \n",
       "5                           Benchire             2-5 Yrs  \n",
       "6                            Brillio             4-7 Yrs  \n",
       "7                             Cerner            5-10 Yrs  \n",
       "8                              Intel             3-6 Yrs  \n",
       "9                           Flipkart             3-7 Yrs  "
      ]
     },
     "execution_count": 31,
     "metadata": {},
     "output_type": "execute_result"
    }
   ],
   "source": [
    "df=pd.DataFrame({'Job_title':job_title,'Job_location':job_location,'Company_name':company_name,'experience_required':experience_required})\n",
    "df"
   ]
  },
  {
   "cell_type": "markdown",
   "id": "3c91653b",
   "metadata": {},
   "source": [
    "# Q2: Write a python program to scrape data for “Data Scientist” Job position in “Bangalore” location. You have to scrape the job-title, job-location, company_name. You have to scrape first 10 jobs data. This task will be done in following steps:\n",
    "\n"
   ]
  },
  {
   "cell_type": "markdown",
   "id": "3b7f06ae",
   "metadata": {},
   "source": [
    "1.\tFirst get the webpage https://www.naukri.com/"
   ]
  },
  {
   "cell_type": "code",
   "execution_count": 32,
   "id": "4b165a6c",
   "metadata": {},
   "outputs": [],
   "source": [
    "# first connecting with webdriver\n",
    "driver=webdriver.Chrome(r\"C:\\Users\\user\\Desktop\\drivers\\chromedriver\")"
   ]
  },
  {
   "cell_type": "code",
   "execution_count": 33,
   "id": "06118a13",
   "metadata": {},
   "outputs": [],
   "source": [
    "# opening website using webdriver \n",
    "url = 'https://www.naukri.com/'\n",
    "driver.get(url)"
   ]
  },
  {
   "cell_type": "markdown",
   "id": "bfa998c9",
   "metadata": {},
   "source": [
    "2.\tEnter “Data Scientist” in “Skill, Designations, Companies” field and enter “Bangalore” in “enter the\n",
    "location” field.\n"
   ]
  },
  {
   "cell_type": "code",
   "execution_count": 34,
   "id": "6336347c",
   "metadata": {},
   "outputs": [],
   "source": [
    "# lets type keywords to search for a job\n",
    "job_search = driver.find_element(By.XPATH,'/html[1]/body[1]/div[1]/div[2]/div[3]/div[1]/div[1]/div[1]/div[1]/div[1]/div[1]/input[1]')\n",
    "job_search.send_keys('Data scientist')"
   ]
  },
  {
   "cell_type": "code",
   "execution_count": 35,
   "id": "1a3fc3ca",
   "metadata": {},
   "outputs": [],
   "source": [
    "# lets type the keyword to search for location\n",
    "location=driver.find_element(By.XPATH,\"/html[1]/body[1]/div[1]/div[2]/div[3]/div[1]/div[1]/div[5]/div[1]/div[1]/div[1]/input[1]\")\n",
    "location.send_keys('Bangalore')"
   ]
  },
  {
   "cell_type": "markdown",
   "id": "c78b94f2",
   "metadata": {},
   "source": [
    "3.\tThen click the search button."
   ]
  },
  {
   "cell_type": "code",
   "execution_count": 36,
   "id": "f4b66f2c",
   "metadata": {},
   "outputs": [],
   "source": [
    "# lets click on search\n",
    "ser_loc = driver.find_element(By.CLASS_NAME,\"qsbSubmit\")\n",
    "ser_loc.click()"
   ]
  },
  {
   "cell_type": "markdown",
   "id": "e2540dee",
   "metadata": {},
   "source": [
    "4.\tThen scrape the data for the first 10 jobs results you get."
   ]
  },
  {
   "cell_type": "code",
   "execution_count": 37,
   "id": "def47449",
   "metadata": {},
   "outputs": [],
   "source": [
    "# first we will create 4 empty list for job_title, job_location, company_name and required_experience\n",
    "job_title = []\n",
    "job_location = []\n",
    "company_name = []\n",
    "experience_required = []\n",
    "\n",
    "# lets scrap all the job title first using xpath\n",
    "\n",
    "for i in driver.find_elements(By.XPATH,'//a[@class=\"title fw500 ellipsis\"]'):   # getting all the title tags\n",
    "    job_title.append(i.text)                                                    # getting the texts of titles\n",
    "    job_title=job_title[:10]                                                    # as we need first 10 job position only\n",
    "    \n",
    "# lets scrap the locations using xpath\n",
    "\n",
    "for i in driver.find_elements(By.XPATH,\"//li[@class='fleft grey-text br2 placeHolderLi location']\"): # getting the tags for job location by xpath through parent tag ('li')\n",
    "    job_location.append(i.text)                 # text for job_location\n",
    "    job_location = job_location[:10]            # as we need first 10 job locations only\n",
    "    \n",
    "# lets scrap the company name using xpath\n",
    "\n",
    "for i in driver.find_elements(By.XPATH,'//a[@class=\"subTitle ellipsis fleft\"]'):  # getting tags for company_name\n",
    "    company_name.append(i.text)                 # getting text in list\n",
    "    company_name = company_name[:10]            # as we need first 10 company names only\n",
    "    \n",
    " # lets scrap the last list experience_required using xpath\n",
    "\n",
    "for i in driver.find_elements(By.XPATH,\"//li[@class='fleft grey-text br2 placeHolderLi experience']\"):  # for tags of experience through parent tag(li)\n",
    "    experience_required.append(i.text)                    # getting text in list\n",
    "    experience_required = experience_required[:10]        # as we need first 10 experience_required only"
   ]
  },
  {
   "cell_type": "code",
   "execution_count": 38,
   "id": "eb5d89dc",
   "metadata": {},
   "outputs": [
    {
     "data": {
      "text/plain": [
       "['Data scientist _Tata Consultancy Services(Tcs)',\n",
       " 'Data Science Senior Analyst',\n",
       " 'Data Scientist - II',\n",
       " 'Urgent Job Opening For AI Practitioner - Data Science at Wipro Holmes',\n",
       " 'Data Scientist',\n",
       " 'Data Scientist',\n",
       " 'Data Scientist',\n",
       " 'Data Scientist',\n",
       " 'Sr Data Scientist',\n",
       " 'Hiring For Senior Data Scientist']"
      ]
     },
     "execution_count": 38,
     "metadata": {},
     "output_type": "execute_result"
    }
   ],
   "source": [
    "#lets check the title\n",
    "job_title"
   ]
  },
  {
   "cell_type": "code",
   "execution_count": 39,
   "id": "1a07fe98",
   "metadata": {},
   "outputs": [
    {
     "data": {
      "text/plain": [
       "['Bangalore/Bengaluru, Kochi/Cochin, Indore, New Delhi, Hyderabad/Secunderabad, Pune, Chennai, Delhi / NCR, Mumbai (All Areas)',\n",
       " 'Bangalore/Bengaluru, Kolkata, Mumbai, Hyderabad/Secunderabad, Pune, Chennai, delhi ncr',\n",
       " 'Bangalore/Bengaluru, India, Mumbai (All Areas)',\n",
       " 'Bangalore/Bengaluru, Kochi/Cochin, New Delhi, Coimbatore, Chennai, Pune, Mumbai, Hyderabad',\n",
       " 'Bangalore/Bengaluru',\n",
       " 'Bangalore/Bengaluru',\n",
       " 'Bangalore/Bengaluru',\n",
       " 'Bangalore/Bengaluru',\n",
       " 'Bangalore/Bengaluru',\n",
       " 'Bangalore/Bengaluru, Pune']"
      ]
     },
     "execution_count": 39,
     "metadata": {},
     "output_type": "execute_result"
    }
   ],
   "source": [
    "#lets 10 job location\n",
    "job_location"
   ]
  },
  {
   "cell_type": "code",
   "execution_count": 40,
   "id": "1aac3e9b",
   "metadata": {},
   "outputs": [
    {
     "data": {
      "text/plain": [
       "['TATA CONSULTANCY SERVICES (TCS)',\n",
       " 'Accenture',\n",
       " 'SMARTPADDLE TECHNOLOGY PVT. LTD.',\n",
       " 'Wipro',\n",
       " 'Applied Materials',\n",
       " 'Applied Materials',\n",
       " 'Applied Materials',\n",
       " 'Applied Materials',\n",
       " 'Caterpillar Inc',\n",
       " 'TATA CONSULTANCY SERVICES (TCS)']"
      ]
     },
     "execution_count": 40,
     "metadata": {},
     "output_type": "execute_result"
    }
   ],
   "source": [
    "#lets check the company name\n",
    "company_name"
   ]
  },
  {
   "cell_type": "code",
   "execution_count": 41,
   "id": "d0f79224",
   "metadata": {},
   "outputs": [
    {
     "data": {
      "text/plain": [
       "['9-14 Yrs',\n",
       " '2-5 Yrs',\n",
       " '3-6 Yrs',\n",
       " '11-21 Yrs',\n",
       " '7-10 Yrs',\n",
       " '7-10 Yrs',\n",
       " '7-10 Yrs',\n",
       " '7-10 Yrs',\n",
       " '1-10 Yrs',\n",
       " '8-13 Yrs']"
      ]
     },
     "execution_count": 41,
     "metadata": {},
     "output_type": "execute_result"
    }
   ],
   "source": [
    "#lets check the experience\n",
    "experience_required"
   ]
  },
  {
   "cell_type": "code",
   "execution_count": 42,
   "id": "20f12dae",
   "metadata": {},
   "outputs": [
    {
     "name": "stdout",
     "output_type": "stream",
     "text": [
      "10 10 10 10\n"
     ]
    }
   ],
   "source": [
    "print(len(job_title),len(job_location),len(company_name),len(experience_required))"
   ]
  },
  {
   "cell_type": "markdown",
   "id": "0fcf9055",
   "metadata": {},
   "source": [
    "5.\tFinally create a dataframe of the scraped data."
   ]
  },
  {
   "cell_type": "code",
   "execution_count": 43,
   "id": "86f7fc01",
   "metadata": {},
   "outputs": [
    {
     "data": {
      "text/html": [
       "<div>\n",
       "<style scoped>\n",
       "    .dataframe tbody tr th:only-of-type {\n",
       "        vertical-align: middle;\n",
       "    }\n",
       "\n",
       "    .dataframe tbody tr th {\n",
       "        vertical-align: top;\n",
       "    }\n",
       "\n",
       "    .dataframe thead th {\n",
       "        text-align: right;\n",
       "    }\n",
       "</style>\n",
       "<table border=\"1\" class=\"dataframe\">\n",
       "  <thead>\n",
       "    <tr style=\"text-align: right;\">\n",
       "      <th></th>\n",
       "      <th>Job_title</th>\n",
       "      <th>Job_location</th>\n",
       "      <th>Company_name</th>\n",
       "      <th>experience_required</th>\n",
       "    </tr>\n",
       "  </thead>\n",
       "  <tbody>\n",
       "    <tr>\n",
       "      <th>0</th>\n",
       "      <td>Data scientist _Tata Consultancy Services(Tcs)</td>\n",
       "      <td>Bangalore/Bengaluru, Kochi/Cochin, Indore, New...</td>\n",
       "      <td>TATA CONSULTANCY SERVICES (TCS)</td>\n",
       "      <td>9-14 Yrs</td>\n",
       "    </tr>\n",
       "    <tr>\n",
       "      <th>1</th>\n",
       "      <td>Data Science Senior Analyst</td>\n",
       "      <td>Bangalore/Bengaluru, Kolkata, Mumbai, Hyderaba...</td>\n",
       "      <td>Accenture</td>\n",
       "      <td>2-5 Yrs</td>\n",
       "    </tr>\n",
       "    <tr>\n",
       "      <th>2</th>\n",
       "      <td>Data Scientist - II</td>\n",
       "      <td>Bangalore/Bengaluru, India, Mumbai (All Areas)</td>\n",
       "      <td>SMARTPADDLE TECHNOLOGY PVT. LTD.</td>\n",
       "      <td>3-6 Yrs</td>\n",
       "    </tr>\n",
       "    <tr>\n",
       "      <th>3</th>\n",
       "      <td>Urgent Job Opening For AI Practitioner - Data ...</td>\n",
       "      <td>Bangalore/Bengaluru, Kochi/Cochin, New Delhi, ...</td>\n",
       "      <td>Wipro</td>\n",
       "      <td>11-21 Yrs</td>\n",
       "    </tr>\n",
       "    <tr>\n",
       "      <th>4</th>\n",
       "      <td>Data Scientist</td>\n",
       "      <td>Bangalore/Bengaluru</td>\n",
       "      <td>Applied Materials</td>\n",
       "      <td>7-10 Yrs</td>\n",
       "    </tr>\n",
       "    <tr>\n",
       "      <th>5</th>\n",
       "      <td>Data Scientist</td>\n",
       "      <td>Bangalore/Bengaluru</td>\n",
       "      <td>Applied Materials</td>\n",
       "      <td>7-10 Yrs</td>\n",
       "    </tr>\n",
       "    <tr>\n",
       "      <th>6</th>\n",
       "      <td>Data Scientist</td>\n",
       "      <td>Bangalore/Bengaluru</td>\n",
       "      <td>Applied Materials</td>\n",
       "      <td>7-10 Yrs</td>\n",
       "    </tr>\n",
       "    <tr>\n",
       "      <th>7</th>\n",
       "      <td>Data Scientist</td>\n",
       "      <td>Bangalore/Bengaluru</td>\n",
       "      <td>Applied Materials</td>\n",
       "      <td>7-10 Yrs</td>\n",
       "    </tr>\n",
       "    <tr>\n",
       "      <th>8</th>\n",
       "      <td>Sr Data Scientist</td>\n",
       "      <td>Bangalore/Bengaluru</td>\n",
       "      <td>Caterpillar Inc</td>\n",
       "      <td>1-10 Yrs</td>\n",
       "    </tr>\n",
       "    <tr>\n",
       "      <th>9</th>\n",
       "      <td>Hiring For Senior Data Scientist</td>\n",
       "      <td>Bangalore/Bengaluru, Pune</td>\n",
       "      <td>TATA CONSULTANCY SERVICES (TCS)</td>\n",
       "      <td>8-13 Yrs</td>\n",
       "    </tr>\n",
       "  </tbody>\n",
       "</table>\n",
       "</div>"
      ],
      "text/plain": [
       "                                           Job_title  \\\n",
       "0     Data scientist _Tata Consultancy Services(Tcs)   \n",
       "1                        Data Science Senior Analyst   \n",
       "2                                Data Scientist - II   \n",
       "3  Urgent Job Opening For AI Practitioner - Data ...   \n",
       "4                                     Data Scientist   \n",
       "5                                     Data Scientist   \n",
       "6                                     Data Scientist   \n",
       "7                                     Data Scientist   \n",
       "8                                  Sr Data Scientist   \n",
       "9                   Hiring For Senior Data Scientist   \n",
       "\n",
       "                                        Job_location  \\\n",
       "0  Bangalore/Bengaluru, Kochi/Cochin, Indore, New...   \n",
       "1  Bangalore/Bengaluru, Kolkata, Mumbai, Hyderaba...   \n",
       "2     Bangalore/Bengaluru, India, Mumbai (All Areas)   \n",
       "3  Bangalore/Bengaluru, Kochi/Cochin, New Delhi, ...   \n",
       "4                                Bangalore/Bengaluru   \n",
       "5                                Bangalore/Bengaluru   \n",
       "6                                Bangalore/Bengaluru   \n",
       "7                                Bangalore/Bengaluru   \n",
       "8                                Bangalore/Bengaluru   \n",
       "9                          Bangalore/Bengaluru, Pune   \n",
       "\n",
       "                       Company_name experience_required  \n",
       "0   TATA CONSULTANCY SERVICES (TCS)            9-14 Yrs  \n",
       "1                         Accenture             2-5 Yrs  \n",
       "2  SMARTPADDLE TECHNOLOGY PVT. LTD.             3-6 Yrs  \n",
       "3                             Wipro           11-21 Yrs  \n",
       "4                 Applied Materials            7-10 Yrs  \n",
       "5                 Applied Materials            7-10 Yrs  \n",
       "6                 Applied Materials            7-10 Yrs  \n",
       "7                 Applied Materials            7-10 Yrs  \n",
       "8                   Caterpillar Inc            1-10 Yrs  \n",
       "9   TATA CONSULTANCY SERVICES (TCS)            8-13 Yrs  "
      ]
     },
     "execution_count": 43,
     "metadata": {},
     "output_type": "execute_result"
    }
   ],
   "source": [
    "df=pd.DataFrame({'Job_title':job_title,'Job_location':job_location,'Company_name':company_name,'experience_required':experience_required})\n",
    "df"
   ]
  },
  {
   "cell_type": "markdown",
   "id": "7ebddc81",
   "metadata": {},
   "source": [
    "# Q3:-scrape data using the filters available on the webpage as shown below:"
   ]
  },
  {
   "cell_type": "code",
   "execution_count": 44,
   "id": "3aa9405a",
   "metadata": {},
   "outputs": [],
   "source": [
    "# You have to use the location and salary filter.\n",
    "#You have to scrape data for “Data Scientist” designation for first 10 job results. You have to scrape the job-title, job-\n",
    "#location, company name, experience required.\n",
    "#The location filter to be used is “Delhi/NCR”. The salary filter to be used is “3-6” lakhs\n"
   ]
  },
  {
   "cell_type": "code",
   "execution_count": 45,
   "id": "b3d58f88",
   "metadata": {},
   "outputs": [],
   "source": [
    "# first connecting with webdriver\n",
    "driver=webdriver.Chrome(r\"C:\\Users\\user\\Desktop\\drivers\\chromedriver\")"
   ]
  },
  {
   "cell_type": "markdown",
   "id": "ef25df0d",
   "metadata": {},
   "source": [
    "1.\tfirst get the webpage https://www.naukri.com/"
   ]
  },
  {
   "cell_type": "code",
   "execution_count": 46,
   "id": "32844db5",
   "metadata": {},
   "outputs": [],
   "source": [
    "# opening website using webdriver \n",
    "url = 'https://www.naukri.com/'\n",
    "driver.get(url)"
   ]
  },
  {
   "cell_type": "markdown",
   "id": "7ef1ce1f",
   "metadata": {},
   "source": [
    "2.\tEnter “Data Scientist” in “Skill, Designations, and Companies” field."
   ]
  },
  {
   "cell_type": "code",
   "execution_count": 47,
   "id": "f97b5179",
   "metadata": {},
   "outputs": [],
   "source": [
    "# lets type keywords to search for a job\n",
    "job_search = driver.find_element(By.XPATH,'/html[1]/body[1]/div[1]/div[2]/div[3]/div[1]/div[1]/div[1]/div[1]/div[1]/div[1]/input[1]')\n",
    "job_search.send_keys('Data scientist')"
   ]
  },
  {
   "cell_type": "markdown",
   "id": "98bee5e0",
   "metadata": {},
   "source": [
    "3.\tThen click the search button."
   ]
  },
  {
   "cell_type": "code",
   "execution_count": 48,
   "id": "5f2b78c0",
   "metadata": {},
   "outputs": [],
   "source": [
    "# lets click on search\n",
    "ser_loc = driver.find_element(By.CLASS_NAME,\"qsbSubmit\")\n",
    "ser_loc.click()"
   ]
  },
  {
   "cell_type": "markdown",
   "id": "6debdbb4",
   "metadata": {},
   "source": [
    "4.\tThen apply the location filter and salary filter by checking the respective boxes"
   ]
  },
  {
   "cell_type": "code",
   "execution_count": 49,
   "id": "121b02dd",
   "metadata": {},
   "outputs": [],
   "source": [
    "location_filter =driver.find_element(By.XPATH,'/html[1]/body[1]/div[1]/div[3]/div[2]/section[1]/div[2]/div[5]/div[1]/span[1]')\n",
    "location_filter.click()"
   ]
  },
  {
   "cell_type": "code",
   "execution_count": 50,
   "id": "767c3cd1",
   "metadata": {},
   "outputs": [],
   "source": [
    "salary_filter =driver.find_element(By.XPATH,'/html[1]/body[1]/div[1]/div[3]/div[2]/section[1]/div[2]/div[6]/div[1]/span[1]')\n",
    "salary_filter.click()"
   ]
  },
  {
   "cell_type": "code",
   "execution_count": 51,
   "id": "f2ba83f2",
   "metadata": {},
   "outputs": [],
   "source": [
    "# creating 4 empty list for job title, job location, company name, experience required\n",
    "job_title = []\n",
    "job_location = []\n",
    "company_name = []\n",
    "experience_required = []\n",
    "\n",
    "# scraping job_title\n",
    "for i in driver.find_elements(By.XPATH,'//a[@class=\"title fw500 ellipsis\"]'):   # getting all the job title tags\n",
    "    job_title.append(i.text)                                                    # appending the text of title tags in empty list\n",
    "    job_title = job_title[:10]                                                  # getting first 10 job title\n",
    "    \n",
    "# scraping job locations\n",
    "for i in driver.find_elements(By.XPATH,'//li[@class=\"fleft grey-text br2 placeHolderLi location\"]'):\n",
    "    job_location.append(i.text)\n",
    "    job_location = job_location[:10]\n",
    "    \n",
    "# scraping company name\n",
    "for i in driver.find_elements(By.XPATH,'//a[@class=\"subTitle ellipsis fleft\"]'):\n",
    "    company_name.append(i.text)\n",
    "    company_name = company_name[:10]\n",
    "    \n",
    "# scraping experience required\n",
    "for i in driver.find_elements(By.XPATH,'//li[@class=\"fleft grey-text br2 placeHolderLi experience\"]'):\n",
    "    experience_required.append(i.text)\n",
    "    experience_required = experience_required[:10]"
   ]
  },
  {
   "cell_type": "code",
   "execution_count": 52,
   "id": "f08eb556",
   "metadata": {},
   "outputs": [
    {
     "data": {
      "text/plain": [
       "['Data scientist _Tata Consultancy Services(Tcs)',\n",
       " 'Data Science Senior Analyst',\n",
       " 'Data Scientist - II',\n",
       " 'Urgent Job Opening For AI Practitioner - Data Science at Wipro Holmes',\n",
       " 'Data Scientist',\n",
       " 'Data Scientist',\n",
       " 'Data Scientist',\n",
       " 'Data Scientist',\n",
       " 'Sr Data Scientist',\n",
       " 'Hiring For Senior Data Scientist']"
      ]
     },
     "execution_count": 52,
     "metadata": {},
     "output_type": "execute_result"
    }
   ],
   "source": [
    "#lets check the title\n",
    "job_title"
   ]
  },
  {
   "cell_type": "code",
   "execution_count": 53,
   "id": "c5b156d9",
   "metadata": {},
   "outputs": [
    {
     "data": {
      "text/plain": [
       "['Kochi/Cochin, Indore, New Delhi, Hyderabad/Secunderabad, Pune, Chennai, Bangalore/Bengaluru, Delhi / NCR, Mumbai (All Areas)',\n",
       " 'Kolkata, Mumbai, Hyderabad/Secunderabad, Pune, Chennai, Bangalore/Bengaluru, delhi ncr',\n",
       " 'India, Bangalore/Bengaluru, Mumbai (All Areas)',\n",
       " 'Kochi/Cochin, New Delhi, Bangalore/Bengaluru, Coimbatore, Chennai, Pune, Mumbai, Hyderabad',\n",
       " 'Bangalore/Bengaluru',\n",
       " 'Bangalore/Bengaluru',\n",
       " 'Bangalore/Bengaluru',\n",
       " 'Bangalore/Bengaluru',\n",
       " 'Bangalore/Bengaluru',\n",
       " 'Pune, Bangalore/Bengaluru']"
      ]
     },
     "execution_count": 53,
     "metadata": {},
     "output_type": "execute_result"
    }
   ],
   "source": [
    "#lets 10 job location\n",
    "job_location"
   ]
  },
  {
   "cell_type": "code",
   "execution_count": 54,
   "id": "22130a7d",
   "metadata": {},
   "outputs": [
    {
     "data": {
      "text/plain": [
       "['TATA CONSULTANCY SERVICES (TCS)',\n",
       " 'Accenture',\n",
       " 'SMARTPADDLE TECHNOLOGY PVT. LTD.',\n",
       " 'Wipro',\n",
       " 'Applied Materials',\n",
       " 'Applied Materials',\n",
       " 'Applied Materials',\n",
       " 'Applied Materials',\n",
       " 'Caterpillar Inc',\n",
       " 'TATA CONSULTANCY SERVICES (TCS)']"
      ]
     },
     "execution_count": 54,
     "metadata": {},
     "output_type": "execute_result"
    }
   ],
   "source": [
    "#lets check the company name\n",
    "company_name"
   ]
  },
  {
   "cell_type": "code",
   "execution_count": 55,
   "id": "d20e67e9",
   "metadata": {},
   "outputs": [
    {
     "data": {
      "text/plain": [
       "['9-14 Yrs',\n",
       " '2-5 Yrs',\n",
       " '3-6 Yrs',\n",
       " '11-21 Yrs',\n",
       " '7-10 Yrs',\n",
       " '7-10 Yrs',\n",
       " '7-10 Yrs',\n",
       " '7-10 Yrs',\n",
       " '1-10 Yrs',\n",
       " '8-13 Yrs']"
      ]
     },
     "execution_count": 55,
     "metadata": {},
     "output_type": "execute_result"
    }
   ],
   "source": [
    "#lets check the experience\n",
    "experience_required"
   ]
  },
  {
   "cell_type": "code",
   "execution_count": 56,
   "id": "53125e8a",
   "metadata": {},
   "outputs": [
    {
     "name": "stdout",
     "output_type": "stream",
     "text": [
      "10 10 10 10\n"
     ]
    }
   ],
   "source": [
    "print(len(job_title),len(job_location),len(company_name),len(experience_required))"
   ]
  },
  {
   "cell_type": "code",
   "execution_count": 57,
   "id": "0978ea3a",
   "metadata": {},
   "outputs": [
    {
     "data": {
      "text/html": [
       "<div>\n",
       "<style scoped>\n",
       "    .dataframe tbody tr th:only-of-type {\n",
       "        vertical-align: middle;\n",
       "    }\n",
       "\n",
       "    .dataframe tbody tr th {\n",
       "        vertical-align: top;\n",
       "    }\n",
       "\n",
       "    .dataframe thead th {\n",
       "        text-align: right;\n",
       "    }\n",
       "</style>\n",
       "<table border=\"1\" class=\"dataframe\">\n",
       "  <thead>\n",
       "    <tr style=\"text-align: right;\">\n",
       "      <th></th>\n",
       "      <th>Job_title</th>\n",
       "      <th>Job_location</th>\n",
       "      <th>Company_name</th>\n",
       "      <th>experience_required</th>\n",
       "    </tr>\n",
       "  </thead>\n",
       "  <tbody>\n",
       "    <tr>\n",
       "      <th>0</th>\n",
       "      <td>Data scientist _Tata Consultancy Services(Tcs)</td>\n",
       "      <td>Kochi/Cochin, Indore, New Delhi, Hyderabad/Sec...</td>\n",
       "      <td>TATA CONSULTANCY SERVICES (TCS)</td>\n",
       "      <td>9-14 Yrs</td>\n",
       "    </tr>\n",
       "    <tr>\n",
       "      <th>1</th>\n",
       "      <td>Data Science Senior Analyst</td>\n",
       "      <td>Kolkata, Mumbai, Hyderabad/Secunderabad, Pune,...</td>\n",
       "      <td>Accenture</td>\n",
       "      <td>2-5 Yrs</td>\n",
       "    </tr>\n",
       "    <tr>\n",
       "      <th>2</th>\n",
       "      <td>Data Scientist - II</td>\n",
       "      <td>India, Bangalore/Bengaluru, Mumbai (All Areas)</td>\n",
       "      <td>SMARTPADDLE TECHNOLOGY PVT. LTD.</td>\n",
       "      <td>3-6 Yrs</td>\n",
       "    </tr>\n",
       "    <tr>\n",
       "      <th>3</th>\n",
       "      <td>Urgent Job Opening For AI Practitioner - Data ...</td>\n",
       "      <td>Kochi/Cochin, New Delhi, Bangalore/Bengaluru, ...</td>\n",
       "      <td>Wipro</td>\n",
       "      <td>11-21 Yrs</td>\n",
       "    </tr>\n",
       "    <tr>\n",
       "      <th>4</th>\n",
       "      <td>Data Scientist</td>\n",
       "      <td>Bangalore/Bengaluru</td>\n",
       "      <td>Applied Materials</td>\n",
       "      <td>7-10 Yrs</td>\n",
       "    </tr>\n",
       "    <tr>\n",
       "      <th>5</th>\n",
       "      <td>Data Scientist</td>\n",
       "      <td>Bangalore/Bengaluru</td>\n",
       "      <td>Applied Materials</td>\n",
       "      <td>7-10 Yrs</td>\n",
       "    </tr>\n",
       "    <tr>\n",
       "      <th>6</th>\n",
       "      <td>Data Scientist</td>\n",
       "      <td>Bangalore/Bengaluru</td>\n",
       "      <td>Applied Materials</td>\n",
       "      <td>7-10 Yrs</td>\n",
       "    </tr>\n",
       "    <tr>\n",
       "      <th>7</th>\n",
       "      <td>Data Scientist</td>\n",
       "      <td>Bangalore/Bengaluru</td>\n",
       "      <td>Applied Materials</td>\n",
       "      <td>7-10 Yrs</td>\n",
       "    </tr>\n",
       "    <tr>\n",
       "      <th>8</th>\n",
       "      <td>Sr Data Scientist</td>\n",
       "      <td>Bangalore/Bengaluru</td>\n",
       "      <td>Caterpillar Inc</td>\n",
       "      <td>1-10 Yrs</td>\n",
       "    </tr>\n",
       "    <tr>\n",
       "      <th>9</th>\n",
       "      <td>Hiring For Senior Data Scientist</td>\n",
       "      <td>Pune, Bangalore/Bengaluru</td>\n",
       "      <td>TATA CONSULTANCY SERVICES (TCS)</td>\n",
       "      <td>8-13 Yrs</td>\n",
       "    </tr>\n",
       "  </tbody>\n",
       "</table>\n",
       "</div>"
      ],
      "text/plain": [
       "                                           Job_title  \\\n",
       "0     Data scientist _Tata Consultancy Services(Tcs)   \n",
       "1                        Data Science Senior Analyst   \n",
       "2                                Data Scientist - II   \n",
       "3  Urgent Job Opening For AI Practitioner - Data ...   \n",
       "4                                     Data Scientist   \n",
       "5                                     Data Scientist   \n",
       "6                                     Data Scientist   \n",
       "7                                     Data Scientist   \n",
       "8                                  Sr Data Scientist   \n",
       "9                   Hiring For Senior Data Scientist   \n",
       "\n",
       "                                        Job_location  \\\n",
       "0  Kochi/Cochin, Indore, New Delhi, Hyderabad/Sec...   \n",
       "1  Kolkata, Mumbai, Hyderabad/Secunderabad, Pune,...   \n",
       "2     India, Bangalore/Bengaluru, Mumbai (All Areas)   \n",
       "3  Kochi/Cochin, New Delhi, Bangalore/Bengaluru, ...   \n",
       "4                                Bangalore/Bengaluru   \n",
       "5                                Bangalore/Bengaluru   \n",
       "6                                Bangalore/Bengaluru   \n",
       "7                                Bangalore/Bengaluru   \n",
       "8                                Bangalore/Bengaluru   \n",
       "9                          Pune, Bangalore/Bengaluru   \n",
       "\n",
       "                       Company_name experience_required  \n",
       "0   TATA CONSULTANCY SERVICES (TCS)            9-14 Yrs  \n",
       "1                         Accenture             2-5 Yrs  \n",
       "2  SMARTPADDLE TECHNOLOGY PVT. LTD.             3-6 Yrs  \n",
       "3                             Wipro           11-21 Yrs  \n",
       "4                 Applied Materials            7-10 Yrs  \n",
       "5                 Applied Materials            7-10 Yrs  \n",
       "6                 Applied Materials            7-10 Yrs  \n",
       "7                 Applied Materials            7-10 Yrs  \n",
       "8                   Caterpillar Inc            1-10 Yrs  \n",
       "9   TATA CONSULTANCY SERVICES (TCS)            8-13 Yrs  "
      ]
     },
     "execution_count": 57,
     "metadata": {},
     "output_type": "execute_result"
    }
   ],
   "source": [
    "df=pd.DataFrame({'Job_title':job_title,'Job_location':job_location,'Company_name':company_name,'experience_required':experience_required})\n",
    "df"
   ]
  },
  {
   "cell_type": "code",
   "execution_count": null,
   "id": "289847fe",
   "metadata": {},
   "outputs": [],
   "source": [
    "\n"
   ]
  },
  {
   "cell_type": "code",
   "execution_count": null,
   "id": "345b71ef",
   "metadata": {},
   "outputs": [],
   "source": []
  },
  {
   "cell_type": "code",
   "execution_count": null,
   "id": "ea6222ef",
   "metadata": {},
   "outputs": [],
   "source": []
  },
  {
   "cell_type": "code",
   "execution_count": null,
   "id": "d2ea5bf4",
   "metadata": {},
   "outputs": [],
   "source": []
  },
  {
   "cell_type": "code",
   "execution_count": null,
   "id": "ce2b0ab3",
   "metadata": {},
   "outputs": [],
   "source": []
  },
  {
   "cell_type": "code",
   "execution_count": null,
   "id": "a555bb3e",
   "metadata": {},
   "outputs": [],
   "source": []
  },
  {
   "cell_type": "code",
   "execution_count": null,
   "id": "4fd72332",
   "metadata": {},
   "outputs": [],
   "source": []
  },
  {
   "cell_type": "code",
   "execution_count": null,
   "id": "0f44ca79",
   "metadata": {},
   "outputs": [],
   "source": []
  },
  {
   "cell_type": "code",
   "execution_count": null,
   "id": "e663a229",
   "metadata": {},
   "outputs": [],
   "source": []
  }
 ],
 "metadata": {
  "kernelspec": {
   "display_name": "Python 3 (ipykernel)",
   "language": "python",
   "name": "python3"
  },
  "language_info": {
   "codemirror_mode": {
    "name": "ipython",
    "version": 3
   },
   "file_extension": ".py",
   "mimetype": "text/x-python",
   "name": "python",
   "nbconvert_exporter": "python",
   "pygments_lexer": "ipython3",
   "version": "3.9.12"
  }
 },
 "nbformat": 4,
 "nbformat_minor": 5
}
